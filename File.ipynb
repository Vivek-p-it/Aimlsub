pip install telethon
import telethon
from telethon import events
from nltk.sentiment.vader import SentimentIntensityAnalyzer
import pandas as pd

# Replace with your Telegram API ID and hash
api_id = '21542143'
api_hash = '27ccc1232f297a9766ff935240867e26'

# Replace with the username or chat ID of the Telegram channel or group
channel_username = '@Ai23ml45bot'

# Delete the session file if it exists
!rm -rf session_name.session

# Create a new client
client = telethon.TelegramClient('session_name', api_id, api_hash)

async def main():
    # Get the history of messages in the channel
    messages = await client.get_messages(channel_username, limit=1000)

    data = []
    for message in messages:
        text = message.text
        if text:
            sentiment = SentimentIntensityAnalyzer().polarity_scores(text)
            data.append({
                'timestamp': message.date,
                'text': text,
                'sentiment': sentiment['compound']
            })

    # Convert data to a Pandas DataFrame
    df = pd.DataFrame(data)

    # Perform further preprocessing if needed (e.g., stop word removal, tokenization)

    return df

# Run the async function
async with client:
    df = await main()

# Group data by day and calculate average sentiment
df['date'] = df['timestamp'].dt.date
df_grouped = df.groupby('date')['sentiment'].mean().reset_index()

# Print the results
print(df_grouped)
