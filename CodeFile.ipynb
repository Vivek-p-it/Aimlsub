{
  "nbformat": 4,
  "nbformat_minor": 0,
  "metadata": {
    "colab": {
      "provenance": [],
      "authorship_tag": "ABX9TyM43nOSYpT3aOqtpk67a5jc",
      "include_colab_link": true
    },
    "kernelspec": {
      "name": "python3",
      "display_name": "Python 3"
    },
    "language_info": {
      "name": "python"
    }
  },
  "cells": [
    {
      "cell_type": "markdown",
      "metadata": {
        "id": "view-in-github",
        "colab_type": "text"
      },
      "source": [
        "<a href=\"https://colab.research.google.com/github/Vivek-p-it/Aimlsub/blob/main/CodeFile.ipynb\" target=\"_parent\"><img src=\"https://colab.research.google.com/assets/colab-badge.svg\" alt=\"Open In Colab\"/></a>"
      ]
    },
    {
      "cell_type": "code",
      "source": [
        "pip install telethon"
      ],
      "metadata": {
        "colab": {
          "base_uri": "https://localhost:8080/"
        },
        "id": "Ej5j8GGAfobl",
        "outputId": "03aae1d0-75c1-4707-fc6e-d90d82cc49d4"
      },
      "execution_count": 2,
      "outputs": [
        {
          "output_type": "stream",
          "name": "stdout",
          "text": [
            "Collecting telethon\n",
            "  Downloading Telethon-1.36.0.tar.gz (606 kB)\n",
            "\u001b[2K     \u001b[90m━━━━━━━━━━━━━━━━━━━━━━━━━━━━━━━━━━━━━━━━\u001b[0m \u001b[32m606.3/606.3 kB\u001b[0m \u001b[31m8.3 MB/s\u001b[0m eta \u001b[36m0:00:00\u001b[0m\n",
            "\u001b[?25h  Installing build dependencies ... \u001b[?25l\u001b[?25hdone\n",
            "  Getting requirements to build wheel ... \u001b[?25l\u001b[?25hdone\n",
            "  Preparing metadata (pyproject.toml) ... \u001b[?25l\u001b[?25hdone\n",
            "Collecting pyaes (from telethon)\n",
            "  Downloading pyaes-1.6.1.tar.gz (28 kB)\n",
            "  Preparing metadata (setup.py) ... \u001b[?25l\u001b[?25hdone\n",
            "Requirement already satisfied: rsa in /usr/local/lib/python3.10/dist-packages (from telethon) (4.9)\n",
            "Requirement already satisfied: pyasn1>=0.1.3 in /usr/local/lib/python3.10/dist-packages (from rsa->telethon) (0.6.1)\n",
            "Building wheels for collected packages: telethon, pyaes\n",
            "  Building wheel for telethon (pyproject.toml) ... \u001b[?25l\u001b[?25hdone\n",
            "  Created wheel for telethon: filename=Telethon-1.36.0-py3-none-any.whl size=680878 sha256=d167eded15627e39a6828dc134fca21b45de267234992990daa826cfa7c3ece9\n",
            "  Stored in directory: /root/.cache/pip/wheels/4f/6f/86/da2c68242ca7dd92786186731ee763b7ecac8866666ac47170\n",
            "  Building wheel for pyaes (setup.py) ... \u001b[?25l\u001b[?25hdone\n",
            "  Created wheel for pyaes: filename=pyaes-1.6.1-py3-none-any.whl size=26346 sha256=2e78de89b6984b8044a7edf4c09a2b297eb24686e740f61b292a9b92552dad1f\n",
            "  Stored in directory: /root/.cache/pip/wheels/d6/84/5f/ea6aef85a93c7e1922486369874f4740a5642d261e09c59140\n",
            "Successfully built telethon pyaes\n",
            "Installing collected packages: pyaes, telethon\n",
            "Successfully installed pyaes-1.6.1 telethon-1.36.0\n"
          ]
        }
      ]
    },
    {
      "cell_type": "code",
      "source": [
        "import nltk\n",
        "\n",
        "nltk.download('vader_lexicon')\n",
        "\n",
        "import telethon\n",
        "from telethon import events\n",
        "from nltk.sentiment.vader import SentimentIntensityAnalyzer\n",
        "import pandas as pd\n",
        "\n",
        "# Replace with your Telegram API ID and hash\n",
        "api_id = '21542143'\n",
        "api_hash = '27ccc1232f297a9766ff935240867e26'\n",
        "\n",
        "# Replace with the username or chat ID of the Telegram channel or group\n",
        "channel_username = '@Ai23ml45bot'\n",
        "\n",
        "# Delete the session file if it exists\n",
        "!rm -rf session_name.session\n",
        "\n",
        "# Create a new client\n",
        "client = telethon.TelegramClient('session_name', api_id, api_hash)\n",
        "\n",
        "def sentiment_to_eagle_emotion(sentiment_score):\n",
        "  \"\"\"\n",
        "  Maps VADER sentiment score to simplified emotion categories.\n",
        "  \"\"\"\n",
        "  if sentiment_score >= 0.05:\n",
        "    return \"Happy\"\n",
        "  elif sentiment_score <= -0.05:\n",
        "    return \"Sad\"\n",
        "  else:\n",
        "    return \"Neutral\"\n",
        "\n",
        "async def main():\n",
        "  \"\"\"\n",
        "  Analyzes Telegram messages and calculates sentiment distribution.\n",
        "  \"\"\"\n",
        "  # Get the history of messages in the channel\n",
        "  messages = await client.get_messages(channel_username, limit=1000)\n",
        "\n",
        "  data = []\n",
        "  for message in messages:\n",
        "    text = message.text\n",
        "    if text:\n",
        "      sentiment = SentimentIntensityAnalyzer().polarity_scores(text)\n",
        "      emotion = sentiment_to_eagle_emotion(sentiment['compound'])\n",
        "      data.append({\n",
        "          'timestamp': message.date,\n",
        "          'text': text,\n",
        "          'sentiment': sentiment['compound'],\n",
        "          'emotion': emotion\n",
        "      })\n",
        "\n",
        "  # Convert data to a Pandas DataFrame\n",
        "  df = pd.DataFrame(data)\n",
        "\n",
        "  # Calculate emotion counts\n",
        "  emotion_counts = df['emotion'].value_counts().sort_values(ascending=False)\n",
        "  total_messages = len(df)\n",
        "\n",
        "  # Calculate emotion percentages\n",
        "  emotion_percentages = (emotion_counts / total_messages) * 100\n",
        "\n",
        "  # Print results\n",
        "  print(\"**Emotion Distribution**\")\n",
        "  for emotion, percentage in zip(emotion_percentages.index, emotion_percentages.values):\n",
        "    print(f\"{emotion}: {percentage:.2f}%\")\n",
        "\n",
        "# Run the async function\n",
        "async with client:\n",
        "  await main()"
      ],
      "metadata": {
        "colab": {
          "base_uri": "https://localhost:8080/"
        },
        "id": "TVN6ADgMj4ub",
        "outputId": "12a724cc-44b3-41ec-8835-69bec983807f"
      },
      "execution_count": 8,
      "outputs": [
        {
          "output_type": "stream",
          "name": "stderr",
          "text": [
            "[nltk_data] Downloading package vader_lexicon to /root/nltk_data...\n",
            "[nltk_data]   Package vader_lexicon is already up-to-date!\n"
          ]
        },
        {
          "output_type": "stream",
          "name": "stdout",
          "text": [
            "Please enter your phone (or bot token): +918106674146\n",
            "Please enter the code you received: 29099\n",
            "Signed in successfully as Patnam; remember to not break the ToS or you will risk an account ban!\n",
            "**Emotion Distribution**\n",
            "Neutral: 66.67%\n",
            "Happy: 33.33%\n"
          ]
        }
      ]
    }
  ]
}